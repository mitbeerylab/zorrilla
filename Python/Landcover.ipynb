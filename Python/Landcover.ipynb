{
 "cells": [
  {
   "cell_type": "code",
   "execution_count": 1,
   "metadata": {},
   "outputs": [],
   "source": [
    "import numpy as np\n",
    "import pandas as pd\n",
    "df_landcover = pd.read_csv(\"../data/iwildcam_2022_landcover.csv\")\n",
    "df_elevation = pd.read_csv(\"../data/iwildcam_2022_dem.csv\")\n",
    "df_combined = df_landcover.merge(df_elevation, on=\"name\")"
   ]
  },
  {
   "cell_type": "code",
   "execution_count": 2,
   "metadata": {},
   "outputs": [
    {
     "data": {
      "text/plain": [
       "Index(['system:index_x', 'bare-coverfraction', 'crops-coverfraction',\n",
       "       'data-density-indicator', 'discrete_classification',\n",
       "       'discrete_classification-proba', 'forest_type', 'grass-coverfraction',\n",
       "       'moss-coverfraction', 'name', 'shrub-coverfraction',\n",
       "       'snow-coverfraction', 'tree-coverfraction', 'urban-coverfraction',\n",
       "       'water-permanent-coverfraction', 'water-seasonal-coverfraction',\n",
       "       '.geo_x', 'system:index_y', 'elevation', '.geo_y'],\n",
       "      dtype='object')"
      ]
     },
     "execution_count": 2,
     "metadata": {},
     "output_type": "execute_result"
    }
   ],
   "source": [
    "df_combined.columns"
   ]
  },
  {
   "cell_type": "code",
   "execution_count": 3,
   "metadata": {},
   "outputs": [],
   "source": [
    "features = np.stack([df_landcover[col] for col in df_combined.columns if col.endswith(\"coverfraction\")]).T"
   ]
  },
  {
   "cell_type": "code",
   "execution_count": 4,
   "metadata": {},
   "outputs": [
    {
     "ename": "ModuleNotFoundError",
     "evalue": "No module named 'sklearn'",
     "output_type": "error",
     "traceback": [
      "\u001b[0;31m---------------------------------------------------------------------------\u001b[0m",
      "\u001b[0;31mModuleNotFoundError\u001b[0m                       Traceback (most recent call last)",
      "Cell \u001b[0;32mIn[4], line 1\u001b[0m\n\u001b[0;32m----> 1\u001b[0m \u001b[38;5;28;01mfrom\u001b[39;00m \u001b[38;5;21;01msklearn\u001b[39;00m\u001b[38;5;21;01m.\u001b[39;00m\u001b[38;5;21;01mdecomposition\u001b[39;00m \u001b[38;5;28;01mimport\u001b[39;00m PCA\n\u001b[1;32m      2\u001b[0m \u001b[38;5;28;01mfrom\u001b[39;00m \u001b[38;5;21;01msklearn\u001b[39;00m\u001b[38;5;21;01m.\u001b[39;00m\u001b[38;5;21;01mpreprocessing\u001b[39;00m \u001b[38;5;28;01mimport\u001b[39;00m Normalizer\n\u001b[1;32m      3\u001b[0m \u001b[38;5;28;01mimport\u001b[39;00m \u001b[38;5;21;01mmatplotlib\u001b[39;00m\u001b[38;5;21;01m.\u001b[39;00m\u001b[38;5;21;01mpyplot\u001b[39;00m \u001b[38;5;28;01mas\u001b[39;00m \u001b[38;5;21;01mplt\u001b[39;00m\n",
      "\u001b[0;31mModuleNotFoundError\u001b[0m: No module named 'sklearn'"
     ]
    }
   ],
   "source": [
    "from sklearn.decomposition import PCA\n",
    "from sklearn.preprocessing import Normalizer\n",
    "import matplotlib.pyplot as plt\n",
    "\n",
    "normalizer = Normalizer()\n",
    "normalizer.fit(features)\n",
    "pca = PCA(n_components=2)\n",
    "pca.fit(normalizer.transform(features))\n",
    "print(pca.explained_variance_ratio_)\n",
    "features_transformed = pca.transform(features)\n",
    "\n",
    "for discrete_classification in df_combined[\"discrete_classification\"].unique():\n",
    "    mask = df_combined[\"discrete_classification\"] == discrete_classification\n",
    "    plt.scatter(features_transformed[mask, 0], features_transformed[mask, 1], label=discrete_classification)\n",
    "plt.legend()\n",
    "\n",
    "coeff = pca.components_[0:2, :].T\n",
    "for i, varname in zip(range(features.shape[1]), [col for col in df_combined.columns if col.endswith(\"coverfraction\")]):\n",
    "    plt.arrow(0, 0, coeff[i,0] * 100, coeff[i,1] * 100,color = 'r',alpha = 0.5)\n",
    "    plt.text(coeff[i,0]* 115., coeff[i,1] * 115., varname, color = 'g', ha = 'center', va = 'center')"
   ]
  },
  {
   "cell_type": "code",
   "execution_count": null,
   "metadata": {},
   "outputs": [],
   "source": [
    "import geopandas as gpd\n"
   ]
  }
 ],
 "metadata": {
  "kernelspec": {
   "display_name": "Python 3",
   "language": "python",
   "name": "python3"
  },
  "language_info": {
   "codemirror_mode": {
    "name": "ipython",
    "version": 3
   },
   "file_extension": ".py",
   "mimetype": "text/x-python",
   "name": "python",
   "nbconvert_exporter": "python",
   "pygments_lexer": "ipython3",
   "version": "3.11.9"
  }
 },
 "nbformat": 4,
 "nbformat_minor": 2
}
