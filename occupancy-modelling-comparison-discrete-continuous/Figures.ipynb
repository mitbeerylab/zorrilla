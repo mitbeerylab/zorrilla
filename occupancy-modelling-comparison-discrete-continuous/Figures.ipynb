{
 "cells": [
  {
   "cell_type": "code",
   "execution_count": 17,
   "metadata": {},
   "outputs": [],
   "source": [
    "import os\n",
    "import numpy as np\n",
    "import pandas as pd\n",
    "import matplotlib.pyplot as plt"
   ]
  },
  {
   "cell_type": "code",
   "execution_count": 18,
   "metadata": {},
   "outputs": [],
   "source": [
    "df = pd.read_csv(\"data/iwildcam_2022_results_v4.csv\")\n",
    "df = df.sort_values(by=[\"species\", \"Model\", \"threshold\"], )"
   ]
  },
  {
   "cell_type": "code",
   "execution_count": 19,
   "metadata": {},
   "outputs": [
    {
     "data": {
      "text/plain": [
       "<Figure size 1800x300 with 0 Axes>"
      ]
     },
     "metadata": {},
     "output_type": "display_data"
    },
    {
     "data": {
      "text/plain": [
       "<Figure size 1800x300 with 0 Axes>"
      ]
     },
     "metadata": {},
     "output_type": "display_data"
    },
    {
     "data": {
      "text/plain": [
       "<Figure size 1800x300 with 0 Axes>"
      ]
     },
     "metadata": {},
     "output_type": "display_data"
    },
    {
     "data": {
      "text/plain": [
       "<Figure size 1800x300 with 0 Axes>"
      ]
     },
     "metadata": {},
     "output_type": "display_data"
    },
    {
     "data": {
      "text/plain": [
       "<Figure size 1800x300 with 0 Axes>"
      ]
     },
     "metadata": {},
     "output_type": "display_data"
    },
    {
     "data": {
      "text/plain": [
       "<Figure size 1800x300 with 0 Axes>"
      ]
     },
     "metadata": {},
     "output_type": "display_data"
    },
    {
     "data": {
      "text/plain": [
       "<Figure size 1800x300 with 0 Axes>"
      ]
     },
     "metadata": {},
     "output_type": "display_data"
    },
    {
     "data": {
      "text/plain": [
       "<Figure size 1800x300 with 0 Axes>"
      ]
     },
     "metadata": {},
     "output_type": "display_data"
    }
   ],
   "source": [
    "ci = 95\n",
    "model_labels = {\n",
    "    \"BP\": \"MacKenzie et al. (2002)\",\n",
    "    \"BP_FP\": \"Royle and Link (2006)\",\n",
    "    \"COP\": \"Pautrel et al. (2024)\",\n",
    "}\n",
    "\n",
    "for species in df[\"species\"].unique():\n",
    "    fig, axes = plt.subplots(1, df[\"Discretisation\"].nunique(), figsize=(18, 3))\n",
    "    for discretisation, ax in zip(df[\"Discretisation\"].unique()[[1, 2, 3, 0]], axes):\n",
    "        for model in df[\"Model\"].unique():\n",
    "            mask_sampled = (df[\"Model\"] == model) & (df[\"species\"] == species) & (df[\"Discretisation\"] == discretisation)\n",
    "            mask = mask_sampled & (df[\"threshold_type\"] != \"gt\")\n",
    "            if mask.sum() == 0:\n",
    "                continue\n",
    "            p = ax.plot(df[mask][\"threshold\"], df[mask][\"psi_PointEstimate\"], label=model_labels.get(model, model))\n",
    "            ax.set_xlabel(\"Threshold\")\n",
    "            ax.set_ylabel(\"ψ\")\n",
    "            ax.fill_between(df[mask][\"threshold\"], df[mask][f\"psi_CI{ci}lower\"], df[mask][f\"psi_CI{ci}upper\"], color=p[0].get_color(), alpha=0.1)\n",
    "            ax.plot(df[mask & (df[\"threshold_type\"] == \"calibrated\")][\"threshold\"], df[mask & (df[\"threshold_type\"] == \"calibrated\")][\"psi_PointEstimate\"], color=p[0].get_color(), marker=\"o\", label=\"Calibrated\")\n",
    "            p = ax.plot(df[mask][\"threshold\"], [df[mask_sampled & (df[\"threshold_type\"] == \"gt\")][\"psi_PointEstimate\"]] * mask.sum(), color=p[0].get_color(), linestyle=\"dashed\", label=\"Ground Truth Labels\")\n",
    "            ax.set_ylim(0, 1)\n",
    "            ax.set_title(discretisation)\n",
    "            # ax.legend()\n",
    "    handles, labels = axes[0].get_legend_handles_labels()\n",
    "    fig.legend(handles, labels, loc=\"center right\", bbox_to_anchor=(0.04, 0, 1, 1), bbox_transform=fig.transFigure)\n",
    "    fig.suptitle(species.title().replace(\"_\", \" \"))\n",
    "    os.makedirs(\"figures/psi\", exist_ok=True)\n",
    "    fig.savefig(f\"figures/psi/{species}.pdf\", bbox_inches=\"tight\", transparent=True)\n",
    "    fig.clear()"
   ]
  },
  {
   "cell_type": "code",
   "execution_count": 20,
   "metadata": {},
   "outputs": [
    {
     "data": {
      "text/plain": [
       "<Figure size 1800x300 with 0 Axes>"
      ]
     },
     "metadata": {},
     "output_type": "display_data"
    },
    {
     "data": {
      "text/plain": [
       "<Figure size 1800x300 with 0 Axes>"
      ]
     },
     "metadata": {},
     "output_type": "display_data"
    },
    {
     "data": {
      "text/plain": [
       "<Figure size 1800x300 with 0 Axes>"
      ]
     },
     "metadata": {},
     "output_type": "display_data"
    },
    {
     "data": {
      "text/plain": [
       "<Figure size 1800x300 with 0 Axes>"
      ]
     },
     "metadata": {},
     "output_type": "display_data"
    },
    {
     "data": {
      "text/plain": [
       "<Figure size 1800x300 with 0 Axes>"
      ]
     },
     "metadata": {},
     "output_type": "display_data"
    },
    {
     "data": {
      "text/plain": [
       "<Figure size 1800x300 with 0 Axes>"
      ]
     },
     "metadata": {},
     "output_type": "display_data"
    },
    {
     "data": {
      "text/plain": [
       "<Figure size 1800x300 with 0 Axes>"
      ]
     },
     "metadata": {},
     "output_type": "display_data"
    },
    {
     "data": {
      "text/plain": [
       "<Figure size 1800x300 with 0 Axes>"
      ]
     },
     "metadata": {},
     "output_type": "display_data"
    }
   ],
   "source": [
    "ci = 95\n",
    "model_labels = {\n",
    "    \"BP\": \"MacKenzie et al. (2002)\",\n",
    "    \"BP_FP\": \"Royle and Link (2006)\",\n",
    "    \"COP\": \"Pautrel et al. (2024)\",\n",
    "}\n",
    "\n",
    "for species in df[\"species\"].unique():\n",
    "    fig, axes = plt.subplots(1, df[\"Discretisation\"].nunique(), figsize=(18, 3))\n",
    "    for discretisation, ax in zip(df[\"Discretisation\"].unique()[[1, 2, 3, 0]], axes):\n",
    "        for model in df[\"Model\"].unique():\n",
    "            mask_sampled = (df[\"Model\"] == model) & (df[\"species\"] == species) & (df[\"Discretisation\"] == discretisation)\n",
    "            mask = mask_sampled & (df[\"threshold_type\"] != \"gt\")\n",
    "            if mask.sum() == 0:\n",
    "                continue\n",
    "            p = ax.plot(df[mask][\"threshold\"], df[mask][\"p_PointEstimate\"], label=model_labels.get(model, model))\n",
    "            ax.set_xlabel(\"Threshold\")\n",
    "            ax.set_ylabel(\"P\")\n",
    "            ax.fill_between(df[mask][\"threshold\"], df[mask][f\"p_CI{ci}lower\"], df[mask][f\"psi_CI{ci}upper\"], color=p[0].get_color(), alpha=0.1)\n",
    "            p = ax.plot(df[mask][\"threshold\"], [df[mask_sampled & (df[\"threshold_type\"] == \"gt\")][\"psi_PointEstimate\"]] * mask.sum(), color=p[0].get_color(), linestyle=\"dashed\", label=\"Ground Truth Labels\")\n",
    "            ax.set_ylim(0, 1)\n",
    "            ax.set_title(discretisation)\n",
    "            # ax.legend()\n",
    "    handles, labels = axes[0].get_legend_handles_labels()\n",
    "    fig.legend(handles, labels, loc=\"center right\", bbox_to_anchor=(0.04, 0, 1, 1), bbox_transform=fig.transFigure)\n",
    "    fig.suptitle(species.title().replace(\"_\", \" \"))\n",
    "    os.makedirs(\"figures/p\", exist_ok=True)\n",
    "    fig.savefig(f\"figures/p/{species}.pdf\", bbox_inches=\"tight\", transparent=True)\n",
    "    fig.clear()"
   ]
  }
 ],
 "metadata": {
  "kernelspec": {
   "display_name": "Python 3",
   "language": "python",
   "name": "python3"
  },
  "language_info": {
   "codemirror_mode": {
    "name": "ipython",
    "version": 3
   },
   "file_extension": ".py",
   "mimetype": "text/x-python",
   "name": "python",
   "nbconvert_exporter": "python",
   "pygments_lexer": "ipython3",
   "version": "3.11.9"
  }
 },
 "nbformat": 4,
 "nbformat_minor": 2
}
